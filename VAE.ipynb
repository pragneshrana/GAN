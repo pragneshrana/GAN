{
  "nbformat": 4,
  "nbformat_minor": 0,
  "metadata": {
    "colab": {
      "name": "VAE.ipynb",
      "provenance": [],
      "authorship_tag": "ABX9TyNbvhiZdP05d4mvtQGwIXm+",
      "include_colab_link": true
    },
    "kernelspec": {
      "name": "python3",
      "display_name": "Python 3"
    }
  },
  "cells": [
    {
      "cell_type": "markdown",
      "metadata": {
        "id": "view-in-github",
        "colab_type": "text"
      },
      "source": [
        "<a href=\"https://colab.research.google.com/github/pragneshrana/GAN/blob/master/VAE.ipynb\" target=\"_parent\"><img src=\"https://colab.research.google.com/assets/colab-badge.svg\" alt=\"Open In Colab\"/></a>"
      ]
    },
    {
      "cell_type": "markdown",
      "metadata": {
        "id": "4WrV_tVsS0YS"
      },
      "source": [
        "- Autoencoders are closely related to principal component analysis (PCA). \n",
        "- split the network into two segments, the encoder, and the decoder\n",
        "- $\\phi : \\mathcal X \\rightarrow \\mathcal F $\n",
        "- $\\psi : \\mathcal F \\rightarrow \\mathcal X   $\n",
        "- $\\phi , \\psi = argmin_{\\phi,\\psi} ||X - (\\psi o \\phi) X||^2$\n",
        "\n",
        "Basically, trying to recreate the original image after some generalized non-linear compression."
      ]
    },
    {
      "cell_type": "markdown",
      "metadata": {
        "id": "RFmwcoOrWBpb"
      },
      "source": [
        "- Encoding Network\n",
        "  - $z = \\sigma (Wx+b) $\n",
        "- decoding Network\n",
        "  - $x' = \\sigma' (W'z+b') $\n",
        "\n",
        "- Loss : \n",
        "  $\\mathcal L(x,x') = || x-x'|| = ||x - \\sigma '(W' (\\sigma (Wx+b)) + b')||^2$\n"
      ]
    },
    {
      "cell_type": "markdown",
      "metadata": {
        "id": "rzzRql5sWBGP"
      },
      "source": [
        "- This is self-supervised learning.\n",
        "- **aim** of the autoencoder is to select our encoder and decoder functions in such a way that we require the minimal information to encode the image such that it be can regenerated on the other side."
      ]
    },
    {
      "cell_type": "markdown",
      "metadata": {
        "id": "jnwDl2msZ-w7"
      },
      "source": [
        ""
      ]
    },
    {
      "cell_type": "code",
      "metadata": {
        "id": "6YufGFkNU6G2"
      },
      "source": [
        ""
      ],
      "execution_count": null,
      "outputs": []
    }
  ]
}